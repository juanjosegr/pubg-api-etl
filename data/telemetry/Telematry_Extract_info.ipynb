{
 "cells": [
  {
   "cell_type": "code",
   "execution_count": null,
   "id": "71bb9614-4527-4697-b995-05cfeeab47f0",
   "metadata": {},
   "outputs": [],
   "source": [
    "import json\n",
    "import pandas as pd\n",
    "import os\n",
    "\n",
    "# Ruta completa o relativa\n",
    "filename = \"39f62e7a-b63b-4bdb-9981-d14719c8c3a0_telemetry.json\"\n",
    "filepath = os.path.join(\"C:/Users/juanj/OneDrive/Escritorio/python/telemetry\", filename)\n",
    "\n",
    "with open(filepath, \"r\", encoding=\"utf-8\") as f:\n",
    "    telemetry_data = json.load(f)\n",
    "\n",
    "df = pd.json_normalize(telemetry_data)"
   ]
  },
  {
   "cell_type": "code",
   "execution_count": null,
   "id": "f2c4da1c-6bc7-499f-be0e-214cc2fba36b",
   "metadata": {},
   "outputs": [],
   "source": [
    "df_with_player = df[df['character.name'].notna()]"
   ]
  },
  {
   "cell_type": "code",
   "execution_count": null,
   "id": "9404ec9d-4c24-4403-97f1-bde1f7b2bc2d",
   "metadata": {},
   "outputs": [],
   "source": [
    "player_name = \"shadowekko\"\n",
    "player_events = df_with_player[df_with_player['character.name'] == player_name]"
   ]
  },
  {
   "cell_type": "code",
   "execution_count": null,
   "id": "7859ea19-ab51-4d1c-8e83-0d265df8f1e9",
   "metadata": {},
   "outputs": [],
   "source": [
    "player_events_sorted = player_events.sort_values(by='_D')"
   ]
  },
  {
   "cell_type": "code",
   "execution_count": null,
   "id": "a613d06c-0e54-4ee4-b28e-a08f1ed2cfd3",
   "metadata": {},
   "outputs": [],
   "source": [
    "player_events_sorted"
   ]
  },
  {
   "cell_type": "code",
   "execution_count": null,
   "id": "42162987-5671-4b69-b01a-74ff73a4ad81",
   "metadata": {},
   "outputs": [],
   "source": [
    "columns_to_show = [\n",
    "     '_D', '_T', 'common.isGame', 'character.health', \n",
    "    'character.location.x', 'character.location.y', 'character.location.z', 'character.ranking', 'character.individualRanking', \n",
    "    'character.isInBlueZone', 'character.isInVehicle', \n",
    "    'character.zone', 'vehicle', 'elapsedTime', 'numAlivePlayers', 'attackId', 'fireWeaponStackCount', 'attackType', \n",
    "    'attacker.name', 'attacker.teamId', 'attacker.health', 'attacker.location.x', 'attacker.location.y', 'attacker.location.z', \n",
    "    'attacker.accountId', 'attacker.isInBlueZone', 'attacker.isInVehicle', 'attacker.zone', 'weapon.itemId', 'weapon.stackCount', \n",
    "    'weapon.category', 'weapon.subCategory', 'weapon.attachedItems', 'isLedgeGrab', 'isVaultOnVehicle', 'objectType', 'objectTypeStatus', \n",
    "    'objectTypeAdditionalInfo', 'seatIndex', 'fellowPassengers', 'vehicle.vehicleType', 'vehicle.vehicleId', 'vehicle.seatIndex', \n",
    "    'vehicle.healthPercent', 'vehicle.feulPercent', 'vehicle.altitudeAbs', 'vehicle.altitudeRel', 'vehicle.velocity', \n",
    "    'vehicle.isWheelsInAir', 'vehicle.isInWaterVolume', 'vehicle.isEngineOn', 'vehicle.location.x', 'vehicle.location.y', \n",
    "    'vehicle.location.z', 'item.itemId', 'item.stackCount', 'item.category', 'item.subCategory', 'item.attachedItems', \n",
    "    'gameState.elapsedTime', 'gameState.numStartTeams', 'gameState.numAliveTeams', 'gameState.numParticipatedTeams', 'gameState.numJoinPlayers', \n",
    "    'gameState.numStartPlayers', 'gameState.numAlivePlayers', 'gameState.numParticipatedPlayers', 'gameState.safetyZonePosition.x', \n",
    "    'gameState.safetyZonePosition.y', 'gameState.safetyZonePosition.z', 'gameState.safetyZoneRadius', 'gameState.poisonGasWarningPosition.x', \n",
    "    'gameState.poisonGasWarningPosition.y', 'gameState.poisonGasWarningPosition.z', 'gameState.poisonGasWarningRadius', \n",
    "    'gameState.redZonePosition.x', 'gameState.redZonePosition.y', 'gameState.redZonePosition.z', 'gameState.redZoneRadius', \n",
    "    'gameState.blackZonePosition.x', 'gameState.blackZonePosition.y', 'gameState.blackZonePosition.z', 'gameState.blackZoneRadius', \n",
    "    'rideDistance', 'maxSpeed', 'distance', 'parentItem.itemId', 'parentItem.stackCount', 'parentItem.category', 'parentItem.subCategory', \n",
    "    'parentItem.attachedItems', 'childItem.itemId', 'childItem.stackCount', 'childItem.category', 'childItem.subCategory', \n",
    "    'childItem.attachedItems', 'damageCauserName', 'objectLocation.x', 'objectLocation.y', 'objectLocation.z', 'damageTypeCategory', \n",
    "    'damageReason', 'damage', 'isThroughPenetrableWall', 'victim.name', 'victim.teamId', 'victim.health', 'victim.location.x', \n",
    "    'victim.location.y', 'victim.location.z', 'victim.ranking', 'victim.individualRanking', 'victim.accountId', 'victim.isInBlueZone', \n",
    "    'victim.isInRedZone', 'victim.inSpecialZone', 'victim.isInVehicle', 'victim.zone', 'victim.type', 'weaponId', 'fireCount', 'phase', \n",
    "    'playersInWhiteCircle', 'healAmount', 'damageCauserAdditionalInfo', 'victimWeapon', 'victimWeaponAdditionalInfo', 'isAttackerInVehicle', \n",
    "    'dBNOId', 'assists_AccountId', 'teamKillers_AccountId', 'isSuicide', 'victimGameResult.rank', 'victimGameResult.gameResult', \n",
    "    'victimGameResult.teamId', 'victimGameResult.stats.killCount', 'victimGameResult.stats.distanceOnFoot', \n",
    "    'victimGameResult.stats.distanceOnSwim', 'victimGameResult.stats.distanceOnVehicle', 'victimGameResult.stats.distanceOnParachute', \n",
    "    'victimGameResult.stats.distanceOnFreefall', 'victimGameResult.stats.bpRewardDetail.byPlayTime', \n",
    "    'victimGameResult.stats.statTrakDataPairs', 'victimGameResult.stats.headshotStatTrakDataPairs', 'victimGameResult.accountId', \n",
    "    'victimGameResult.isRewardAbuse', 'victimVehicle.vehicleType', 'victimVehicle.vehicleId', 'victimVehicle.seatIndex', \n",
    "    'victimVehicle.healthPercent', 'victimVehicle.feulPercent', 'victimVehicle.altitudeAbs', 'victimVehicle.altitudeRel', \n",
    "    'victimVehicle.velocity', 'victimVehicle.isWheelsInAir', 'victimVehicle.isInWaterVolume', 'victimVehicle.isEngineOn', \n",
    "    'victimVehicle.location.x', 'victimVehicle.location.y', 'victimVehicle.location.z', 'dBNOMaker.name', 'dBNOMaker.teamId', \n",
    "    'dBNOMaker.health', 'dBNOMaker.location.x', 'dBNOMaker.location.y', 'dBNOMaker.location.z', 'dBNOMaker.ranking', \n",
    "    'dBNOMaker.individualRanking', 'dBNOMaker.accountId', 'dBNOMaker.isInBlueZone', 'dBNOMaker.isInRedZone', 'dBNOMaker.inSpecialZone', \n",
    "    'dBNOMaker.isInVehicle', 'dBNOMaker.zone', 'dBNOMaker.type', 'dBNODamageInfo.damageReason', 'dBNODamageInfo.damageTypeCategory', \n",
    "    'dBNODamageInfo.damageCauserName', 'dBNODamageInfo.additionalInfo', 'dBNODamageInfo.distance', 'dBNODamageInfo.isThroughPenetrableWall', \n",
    "    'finisher.name', 'finisher.teamId', 'finisher.health', 'finisher.location.x', 'finisher.location.y', 'finisher.location.z', \n",
    "    'finisher.ranking', 'finisher.individualRanking', 'finisher.accountId', 'finisher.isInBlueZone', 'finisher.isInRedZone', \n",
    "    'finisher.inSpecialZone', 'finisher.isInVehicle', 'finisher.zone', 'finisher.type', 'finishDamageInfo.damageReason', \n",
    "    'finishDamageInfo.damageTypeCategory', 'finishDamageInfo.damageCauserName', 'finishDamageInfo.additionalInfo', \n",
    "    'finishDamageInfo.distance', 'finishDamageInfo.isThroughPenetrableWall', 'killer.name', 'killer.teamId', 'killer.health', \n",
    "    'killer.location.x', 'killer.location.y', 'killer.location.z', 'killer.ranking', 'killer.individualRanking', 'killer.accountId', \n",
    "    'killer.isInBlueZone', 'killer.isInRedZone', 'killer.inSpecialZone', 'killer.isInVehicle', 'killer.zone', 'killer.type', \n",
    "    'killerDamageInfo.damageReason', 'killerDamageInfo.damageTypeCategory', 'killerDamageInfo.damageCauserName', \n",
    "    'killerDamageInfo.additionalInfo', 'killerDamageInfo.distance', 'killerDamageInfo.isThroughPenetrableWall', \n",
    "    'killerVehicle.vehicleType', 'killerVehicle.vehicleId', 'killerVehicle.seatIndex', 'killerVehicle.healthPercent', \n",
    "    'killerVehicle.feulPercent', 'killerVehicle.altitudeAbs', 'killerVehicle.altitudeRel', 'killerVehicle.velocity', \n",
    "    'killerVehicle.isWheelsInAir', 'killerVehicle.isInWaterVolume', 'killerVehicle.isEngineOn', 'killerVehicle.location.x', \n",
    "    'killerVehicle.location.y', 'killerVehicle.location.z', 'useTraumaBag', 'reviver.name', 'reviver.teamId', 'reviver.health', \n",
    "    'reviver.location.x', 'reviver.location.y', 'reviver.location.z', 'reviver.ranking', 'reviver.individualRanking', \n",
    "    'reviver.accountId', 'reviver.isInBlueZone', 'reviver.isInRedZone', 'reviver.inSpecialZone', 'reviver.isInVehicle', \n",
    "    'reviver.zone', 'reviver.type', 'ownerTeamId', 'creatorAccountId', 'dBNOMaker', 'itemPackage.itemPackageId', \n",
    "    'itemPackage.location.x', 'itemPackage.location.y', 'itemPackage.location.z', 'itemPackage.items', 'swimDistance', \n",
    "    'maxSwimDepthOfWater', 'riders', 'instigator.name', 'instigator.teamId', 'instigator.health', 'instigator.location.x', \n",
    "    'instigator.location.y', 'instigator.location.z', 'instigator.ranking', 'instigator.individualRanking', 'instigator.accountId', \n",
    "    'instigator.isInBlueZone', 'instigator.isInRedZone', 'instigator.inSpecialZone', 'instigator.isInVehicle', 'instigator.zone', \n",
    "    'instigator.type', 'attacker', 'carePackageUniqueId', 'carePackageName', 'killer', 'wheelIndex', 'carryState', 'allWeaponStats', \n",
    "    'gameResultOnFinished.results'\n",
    "]\n",
    "\n",
    "\n",
    "# Filtramos el DataFrame por las columnas seleccionadas\n",
    "filtered_df = player_events_sorted[columns_to_show]\n",
    "\n",
    "# Muestra el DataFrame filtrado\n",
    "display(filtered_df)"
   ]
  }
 ],
 "metadata": {
  "kernelspec": {
   "display_name": "Python [conda env:base] *",
   "language": "python",
   "name": "conda-base-py"
  },
  "language_info": {
   "codemirror_mode": {
    "name": "ipython",
    "version": 3
   },
   "file_extension": ".py",
   "mimetype": "text/x-python",
   "name": "python",
   "nbconvert_exporter": "python",
   "pygments_lexer": "ipython3",
   "version": "3.12.7"
  }
 },
 "nbformat": 4,
 "nbformat_minor": 5
}
