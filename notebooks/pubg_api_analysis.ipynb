{
 "cells": [
  {
   "cell_type": "markdown",
   "metadata": {
    "editable": true,
    "raw_mimetype": "",
    "slideshow": {
     "slide_type": "slide"
    },
    "tags": []
   },
   "source": [
    "# 📦 0. Import necessary libraries"
   ]
  },
  {
   "cell_type": "code",
   "execution_count": 27,
   "metadata": {
    "editable": true,
    "slideshow": {
     "slide_type": ""
    },
    "tags": []
   },
   "outputs": [
    {
     "ename": "ModuleNotFoundError",
     "evalue": "No module named 'db_config'",
     "output_type": "error",
     "traceback": [
      "\u001b[1;31m---------------------------------------------------------------------------\u001b[0m",
      "\u001b[1;31mModuleNotFoundError\u001b[0m                       Traceback (most recent call last)",
      "Cell \u001b[1;32mIn[27], line 10\u001b[0m\n\u001b[0;32m      7\u001b[0m \u001b[38;5;28;01mfrom\u001b[39;00m \u001b[38;5;21;01mdatetime\u001b[39;00m \u001b[38;5;28;01mimport\u001b[39;00m datetime\n\u001b[0;32m      8\u001b[0m \u001b[38;5;28;01mfrom\u001b[39;00m \u001b[38;5;21;01mtime\u001b[39;00m \u001b[38;5;28;01mimport\u001b[39;00m sleep\n\u001b[1;32m---> 10\u001b[0m \u001b[38;5;28;01mfrom\u001b[39;00m \u001b[38;5;21;01mdb_config\u001b[39;00m \u001b[38;5;28;01mimport\u001b[39;00m get_engine\n\u001b[0;32m     11\u001b[0m \u001b[38;5;28;01mfrom\u001b[39;00m \u001b[38;5;21;01mApiKey\u001b[39;00m \u001b[38;5;28;01mimport\u001b[39;00m api_key\n",
      "\u001b[1;31mModuleNotFoundError\u001b[0m: No module named 'db_config'"
     ]
    }
   ],
   "source": [
    "import requests\n",
    "import json\n",
    "import pandas as pd\n",
    "import os\n",
    "\n",
    "from datetime import timedelta\n",
    "from datetime import datetime\n",
    "from time import sleep\n",
    "\n",
    "from db_config import get_engine\n",
    "from ApiKey import api_key"
   ]
  },
  {
   "cell_type": "markdown",
   "metadata": {},
   "source": [
    "# ------------------- CONFIG -------------------"
   ]
  },
  {
   "cell_type": "markdown",
   "metadata": {},
   "source": [
    "# 📦 1 Postgres Database connect"
   ]
  },
  {
   "cell_type": "code",
   "execution_count": null,
   "metadata": {},
   "outputs": [
    {
     "ename": "ModuleNotFoundError",
     "evalue": "No module named 'config'",
     "output_type": "error",
     "traceback": [
      "\u001b[1;31m---------------------------------------------------------------------------\u001b[0m",
      "\u001b[1;31mModuleNotFoundError\u001b[0m                       Traceback (most recent call last)",
      "Cell \u001b[1;32mIn[11], line 1\u001b[0m\n\u001b[1;32m----> 1\u001b[0m \u001b[38;5;28;01mfrom\u001b[39;00m \u001b[38;5;21;01mconfig\u001b[39;00m\u001b[38;5;21;01m.\u001b[39;00m\u001b[38;5;21;01mdb_config\u001b[39;00m \u001b[38;5;28;01mimport\u001b[39;00m get_engine\n\u001b[0;32m      2\u001b[0m engine \u001b[38;5;241m=\u001b[39m get_engine()\n",
      "\u001b[1;31mModuleNotFoundError\u001b[0m: No module named 'config'"
     ]
    }
   ],
   "source": [
    "engine = get_engine()"
   ]
  },
  {
   "cell_type": "markdown",
   "metadata": {
    "editable": true,
    "slideshow": {
     "slide_type": ""
    },
    "tags": []
   },
   "source": [
    "# 🔐 2. Configure API key, headers, players name and url"
   ]
  },
  {
   "cell_type": "code",
   "execution_count": 14,
   "metadata": {
    "editable": true,
    "slideshow": {
     "slide_type": ""
    },
    "tags": []
   },
   "outputs": [
    {
     "ename": "NameError",
     "evalue": "name 'api_key' is not defined",
     "output_type": "error",
     "traceback": [
      "\u001b[1;31m---------------------------------------------------------------------------\u001b[0m",
      "\u001b[1;31mNameError\u001b[0m                                 Traceback (most recent call last)",
      "Cell \u001b[1;32mIn[14], line 3\u001b[0m\n\u001b[0;32m      1\u001b[0m \u001b[38;5;66;03m# We create the headers that PUBG requires to authenticate and specify the format\u001b[39;00m\n\u001b[0;32m      2\u001b[0m HEADERS \u001b[38;5;241m=\u001b[39m {\n\u001b[1;32m----> 3\u001b[0m     \u001b[38;5;124m\"\u001b[39m\u001b[38;5;124mAuthorization\u001b[39m\u001b[38;5;124m\"\u001b[39m: \u001b[38;5;124mf\u001b[39m\u001b[38;5;124m\"\u001b[39m\u001b[38;5;124mBearer \u001b[39m\u001b[38;5;132;01m{\u001b[39;00mapi_key\u001b[38;5;132;01m}\u001b[39;00m\u001b[38;5;124m\"\u001b[39m,\n\u001b[0;32m      4\u001b[0m     \u001b[38;5;124m\"\u001b[39m\u001b[38;5;124mAccept\u001b[39m\u001b[38;5;124m\"\u001b[39m: \u001b[38;5;124m\"\u001b[39m\u001b[38;5;124mapplication/vnd.api+json\u001b[39m\u001b[38;5;124m\"\u001b[39m\n\u001b[0;32m      5\u001b[0m }\n\u001b[0;32m      7\u001b[0m \u001b[38;5;66;03m# URL base to the PUBG API\u001b[39;00m\n\u001b[0;32m      8\u001b[0m base_url \u001b[38;5;241m=\u001b[39m \u001b[38;5;124m\"\u001b[39m\u001b[38;5;124mhttps://api.pubg.com/shards/steam\u001b[39m\u001b[38;5;124m\"\u001b[39m\n",
      "\u001b[1;31mNameError\u001b[0m: name 'api_key' is not defined"
     ]
    }
   ],
   "source": [
    "# We create the headers that PUBG requires to authenticate and specify the format\n",
    "HEADERS = {\n",
    "    \"Authorization\": f\"Bearer {api_key}\",\n",
    "    \"Accept\": \"application/vnd.api+json\"\n",
    "}\n",
    "\n",
    "# URL base to the PUBG API\n",
    "base_url = \"https://api.pubg.com/shards/steam\""
   ]
  },
  {
   "cell_type": "markdown",
   "metadata": {},
   "source": [
    "# ------------------- EXTRACT -------------------"
   ]
  },
  {
   "cell_type": "markdown",
   "metadata": {
    "editable": true,
    "raw_mimetype": "",
    "slideshow": {
     "slide_type": ""
    },
    "tags": []
   },
   "source": [
    "# 🎮 3. Find player ID"
   ]
  },
  {
   "cell_type": "code",
   "execution_count": 25,
   "metadata": {},
   "outputs": [],
   "source": [
    "def searchPlayer (player_name):\n",
    "    # Endpoint to find player for name\n",
    "    url = f\"{base_url}/players?filter[playerNames]={player_name}\"\n",
    "    \n",
    "    # Send the GET request to the API with authorization headers\n",
    "    response = requests.get(url, headers=HEADERS)\n",
    "\n",
    "    # Raise an exception if the request failed (e.g., 404 or 500)\n",
    "    response.raise_for_status()    \n",
    "\n",
    "    #Save the information and transform with Json library and return the player id\n",
    "    data = response.json()\n",
    "    return data[\"data\"][0][\"id\"]"
   ]
  },
  {
   "cell_type": "markdown",
   "metadata": {
    "raw_mimetype": "",
    "slideshow": {
     "slide_type": ""
    },
    "tags": []
   },
   "source": [
    "# 🎯 4. Obtain matches from the player"
   ]
  },
  {
   "cell_type": "code",
   "execution_count": 24,
   "metadata": {
    "scrolled": true
   },
   "outputs": [],
   "source": [
    "def find_match_players(player_id):\n",
    "    # Endpoint to obtain data of the player from id\n",
    "    url = f\"{base_url}/players/{player_id}\"\n",
    "\n",
    "    # Send the GET request to the API with authorization headers\n",
    "    response = requests.get(url, headers=HEADERS)\n",
    "    \n",
    "    # Raise an exception if the request failed (e.g., 404 or 500)\n",
    "    response.raise_for_status()  \n",
    "\n",
    "    # Returns all of matches from the player\n",
    "    return response.json()[\"data\"][\"relationships\"][\"matches\"][\"data\"]"
   ]
  },
  {
   "cell_type": "markdown",
   "metadata": {},
   "source": [
    "# 📊 5. Obtain match details"
   ]
  },
  {
   "cell_type": "code",
   "execution_count": 23,
   "metadata": {
    "scrolled": true
   },
   "outputs": [],
   "source": [
    "def extract_match_details(match_id):\n",
    "    # Construct the API endpoint URL using the match ID\n",
    "    url = f\"{base_url}/matches/{match_id}\"\n",
    "    \n",
    "    # Send the GET request to the API with authorization headers\n",
    "    response = requests.get(url, headers=HEADERS)\n",
    "    \n",
    "    # Raise an exception if the request failed (e.g., 404 or 500)\n",
    "    response.raise_for_status()\n",
    "    \n",
    "    # Return the JSON response containing match details\n",
    "    return response.json()"
   ]
  },
  {
   "cell_type": "markdown",
   "metadata": {},
   "source": [
    "# 📊 6. Obtain telemetry details"
   ]
  },
  {
   "cell_type": "code",
   "execution_count": null,
   "metadata": {},
   "outputs": [],
   "source": [
    "def download_telemetry(match_id):\n",
    "    url = f\"{base_url}/matches/{match_id}\"\n",
    "    response = requests.get(url, headers=HEADERS)\n",
    "    response.raise_for_status()\n",
    "    match_data = response.json()\n",
    "\n",
    "    # Obtener asset ID de telemetría\n",
    "    asset_id = match_data['data']['relationships']['assets']['data'][0]['id']\n",
    "\n",
    "    # Buscar el asset en el array 'included'\n",
    "    asset = next((item for item in match_data['included'] if item['type'] == 'asset' and item['id'] == asset_id), None)\n",
    "    if asset is None:\n",
    "        print(\"❌ Telemetry asset not found.\")\n",
    "        return match_data\n",
    "\n",
    "    telemetry_url = asset['attributes']['URL']\n",
    "    \n",
    "    tele_response = requests.get(telemetry_url, headers={\"Accept-Encoding\": \"gzip\"})\n",
    "    tele_response.raise_for_status()\n",
    "\n",
    "    os.makedirs(\"telemetry\", exist_ok=True)\n",
    "    filepath = f\"telemetry/{match_id}_telemetry.json\"\n",
    "    with open(filepath, \"wb\") as f:\n",
    "        f.write(tele_response.content)\n",
    "\n",
    "    print(f\"✅ Telemetría guardada en {filepath}\")\n",
    "\n",
    "download_telemetry(find_match_players(searchPlayer(player_name))[0]['id'])"
   ]
  },
  {
   "cell_type": "markdown",
   "metadata": {
    "editable": true,
    "raw_mimetype": "",
    "slideshow": {
     "slide_type": ""
    },
    "tags": []
   },
   "source": [
    "# ------------------- TRANSFORM -------------------"
   ]
  },
  {
   "cell_type": "code",
   "execution_count": 22,
   "metadata": {},
   "outputs": [],
   "source": [
    "def match_info(match_data):\n",
    "    data = match_data['data']['attributes']\n",
    "    rows = []\n",
    "    rows.append({\n",
    "            \"gameMode\":data['gameMode'],\n",
    "            \"mapName\": data[\"mapName\"],\n",
    "            \"createdAt\": data['createdAt'],\n",
    "            \"isCustomMatch\": data[\"isCustomMatch\"],\n",
    "            \"matchType\": data[\"matchType\"],\n",
    "            \"seasonState\": data[\"seasonState\"]\n",
    "    })\n",
    "        \n",
    "    return pd.DataFrame(rows)"
   ]
  },
  {
   "cell_type": "code",
   "execution_count": 21,
   "metadata": {},
   "outputs": [],
   "source": [
    "def rooster_info(match_data):\n",
    "    rosters = match_data['data']['relationships']['rosters']['data']\n",
    "    rows = []\n",
    "    for r in rosters:\n",
    "        rows.append({\n",
    "            \"id\": r['id']\n",
    "        })\n",
    "        \n",
    "    return pd.DataFrame(rows)"
   ]
  },
  {
   "cell_type": "code",
   "execution_count": 20,
   "metadata": {},
   "outputs": [],
   "source": [
    "def player_match_info(match_data):\n",
    "    participants = [x for x in match_data['included'] if x['type'] == 'participant']\n",
    "    rows = []\n",
    "    for p in participants:\n",
    "        stats = p['attributes']['stats']\n",
    "        rows.append({\n",
    "            \"name\": stats['name'],\n",
    "            \"playerId\": stats[\"playerId\"],\n",
    "            \"winPlace\": stats[\"winPlace\"],\n",
    "            \"kills\": stats['kills'],\n",
    "            \"headshotKills\": stats[\"headshotKills\"],\n",
    "            \"longestKill\": stats[\"longestKill\"],\n",
    "            \"killPlace\": stats[\"killPlace\"],\n",
    "            \"DBNOs\": stats[\"DBNOs\"],\n",
    "            \"assists\": stats[\"assists\"],\n",
    "            \"damageDealt\": stats['damageDealt'],\n",
    "            \"winPlace\": stats['winPlace'],\n",
    "            \"timeSurvived\": str(pd.to_timedelta(stats['timeSurvived'], unit='s')).split()[-1],\n",
    "            \"heals\": stats[\"heals\"],\n",
    "            \"boosts\": stats[\"boosts\"],\n",
    "            \"deathType\": stats[\"deathType\"],\n",
    "            \"walkDistance\": stats[\"walkDistance\"],\n",
    "            \"rideDistance\": stats[\"rideDistance\"],\n",
    "            \"swimDistance\": stats[\"swimDistance\"],\n",
    "            \"vehicleDestroys\": stats[\"vehicleDestroys\"]\n",
    "        })\n",
    "    pd.set_option('display.max_rows', None)\n",
    "    return pd.DataFrame(rows).sort_values(by=['winPlace', 'kills'], ascending=[True, False]).reset_index(drop=True)"
   ]
  },
  {
   "cell_type": "markdown",
   "metadata": {},
   "source": [
    "# ------------------- LOAD CSV------------------- "
   ]
  },
  {
   "cell_type": "code",
   "execution_count": 19,
   "metadata": {},
   "outputs": [],
   "source": [
    "def save_to_csv(df, filename=\"data/match_data.csv\"):\n",
    "    os.makedirs(os.path.dirname(filename), exist_ok=True)\n",
    "    df.to_csv(filename, index=False)"
   ]
  },
  {
   "cell_type": "code",
   "execution_count": 18,
   "metadata": {},
   "outputs": [],
   "source": [
    "def run_etl(player_name, max_matches=3):\n",
    "    print(f\"Obteniendo ID para jugador: {player_name}\")\n",
    "    player_id = searchPlayer(player_name)\n",
    "    \n",
    "    print(\"Obteniendo lista de partidas...\")\n",
    "    matches = find_match_players(player_id)[:max_matches]\n",
    "    sleep(1)\n",
    "\n",
    "    # Inicializamos los tres dataframes\n",
    "    all_data_match = pd.DataFrame()\n",
    "    all_data_rooster = pd.DataFrame()\n",
    "    all_data_player = pd.DataFrame()\n",
    "    \n",
    "    for match in matches:\n",
    "        match_id = match['id']\n",
    "        print(f\"Procesando partida: {match_id}\")\n",
    "        match_data = extract_match_details(match_id)\n",
    "        sleep(1)\n",
    "\n",
    "        # Match info\n",
    "        df_match = match_info(match_data)\n",
    "        df_match['match_id'] = match_id\n",
    "        all_data_match = pd.concat([all_data_match, df_match], ignore_index=True)\n",
    "        sleep(1)\n",
    "        \n",
    "        # Rooster info\n",
    "        df_rooster = rooster_info(match_data)\n",
    "        df_rooster['match_id'] = match_id\n",
    "        all_data_rooster = pd.concat([all_data_rooster, df_rooster], ignore_index=True)\n",
    "        sleep(1)\n",
    "        \n",
    "        # Player info\n",
    "        df_player = player_match_info(match_data)\n",
    "        df_player['match_id'] = match_id\n",
    "        all_data_player = pd.concat([all_data_player, df_player], ignore_index=True)\n",
    "\n",
    "        sleep(1)\n",
    "\n",
    "    # Timestamp y nombres de archivo\n",
    "    timestamp = datetime.now().strftime(\"%Y%m%d_%H%M%S\")\n",
    "    base_path = \"data\"\n",
    "\n",
    "    player_file = f\"{base_path}/{player_name}_players_{timestamp}.csv\"\n",
    "    rooster_file = f\"{base_path}/{player_name}_roosters_{timestamp}.csv\"\n",
    "    match_file = f\"{base_path}/{player_name}_matches_{timestamp}.csv\"\n",
    "\n",
    "    print(\"Guardando archivos CSV...\")\n",
    "    save_to_csv(all_data_player, filename=player_file)\n",
    "    save_to_csv(all_data_rooster, filename=rooster_file)\n",
    "    save_to_csv(all_data_match, filename=match_file)\n",
    "\n",
    "    print(\"✅ ETL completado. Archivos generados:\")\n",
    "    print(f\" - {player_file}\")\n",
    "    print(f\" - {rooster_file}\")\n",
    "    print(f\" - {match_file}\")\n",
    "\n",
    "    return {\n",
    "        \"player_csv\": player_file,\n",
    "        \"rooster_csv\": rooster_file,\n",
    "        \"match_csv\": match_file\n",
    "    }"
   ]
  },
  {
   "cell_type": "markdown",
   "metadata": {},
   "source": [
    "# ------------------- LOAD POSTGRES------------------- "
   ]
  },
  {
   "cell_type": "code",
   "execution_count": 17,
   "metadata": {
    "scrolled": true
   },
   "outputs": [],
   "source": [
    "def upload_csv_to_postgres(csv_file_path, table_name, key_column=\"match_id\"):\n",
    "    try:\n",
    "        # Leer el archivo CSV\n",
    "        df = pd.read_csv(csv_file_path)\n",
    "\n",
    "        # Obtener los match_id ya existentes en la tabla\n",
    "        existing_ids_query = f\"\"\"\n",
    "            SELECT {key_column} FROM pubg_games.{table_name}\n",
    "        \"\"\"\n",
    "        existing_ids = pd.read_sql(existing_ids_query, engine)\n",
    "        existing_ids_set = set(existing_ids[key_column].astype(str))\n",
    "\n",
    "        # Convertimos el match_id a string (por seguridad) y filtramos duplicados\n",
    "        df[key_column] = df[key_column].astype(str)\n",
    "        df_filtered = df[~df[key_column].isin(existing_ids_set)]\n",
    "\n",
    "        if df_filtered.empty:\n",
    "            print(f\"⚠️ Todos los registros del archivo ya existen en la tabla '{table_name}'. No se insertó nada.\")\n",
    "        else:\n",
    "            df_filtered.to_sql(table_name, engine, if_exists=\"append\", index=False, schema=\"pubg_games\")\n",
    "            print(f\"✅ Insertados {len(df_filtered)} registros nuevos en '{table_name}'.\")\n",
    "\n",
    "    except Exception as e:\n",
    "        print(f\"❌ Error al subir a PostgreSQL: {e}\")"
   ]
  },
  {
   "cell_type": "code",
   "execution_count": 16,
   "metadata": {},
   "outputs": [],
   "source": [
    "def load_postgres(csv_file_path, table_name):\n",
    "    print(f\"archivo: '{csv_file_path}'\")\n",
    "    print(f\"tabla: '{table_name}'\")\n",
    "    \n",
    "    upload_csv_to_postgres(csv_file_path, table_name, key_column=\"match_id\")\n",
    "    print(\"✅ Upload completo.\")"
   ]
  },
  {
   "cell_type": "markdown",
   "metadata": {},
   "source": [
    "# ------------------- MAIN PIPELINE -------------------"
   ]
  },
  {
   "cell_type": "code",
   "execution_count": 26,
   "metadata": {},
   "outputs": [
    {
     "name": "stdout",
     "output_type": "stream",
     "text": [
      "Obteniendo ID para jugador: KaDiz-\n"
     ]
    },
    {
     "ename": "NameError",
     "evalue": "name 'base_url' is not defined",
     "output_type": "error",
     "traceback": [
      "\u001b[1;31m---------------------------------------------------------------------------\u001b[0m",
      "\u001b[1;31mNameError\u001b[0m                                 Traceback (most recent call last)",
      "Cell \u001b[1;32mIn[26], line 1\u001b[0m\n\u001b[1;32m----> 1\u001b[0m csv_paths \u001b[38;5;241m=\u001b[39m run_etl(\u001b[38;5;124m\"\u001b[39m\u001b[38;5;124mKaDiz-\u001b[39m\u001b[38;5;124m\"\u001b[39m, max_matches\u001b[38;5;241m=\u001b[39m\u001b[38;5;241m3\u001b[39m)\n\u001b[0;32m      3\u001b[0m load_postgres(csv_paths[\u001b[38;5;124m\"\u001b[39m\u001b[38;5;124mplayer_csv\u001b[39m\u001b[38;5;124m\"\u001b[39m], table_name\u001b[38;5;241m=\u001b[39m\u001b[38;5;124m\"\u001b[39m\u001b[38;5;124mplayers\u001b[39m\u001b[38;5;124m\"\u001b[39m, )\n\u001b[0;32m      4\u001b[0m load_postgres(csv_paths[\u001b[38;5;124m\"\u001b[39m\u001b[38;5;124mrooster_csv\u001b[39m\u001b[38;5;124m\"\u001b[39m], table_name\u001b[38;5;241m=\u001b[39m\u001b[38;5;124m\"\u001b[39m\u001b[38;5;124mroosters\u001b[39m\u001b[38;5;124m\"\u001b[39m)\n",
      "Cell \u001b[1;32mIn[18], line 3\u001b[0m, in \u001b[0;36mrun_etl\u001b[1;34m(player_name, max_matches)\u001b[0m\n\u001b[0;32m      1\u001b[0m \u001b[38;5;28;01mdef\u001b[39;00m \u001b[38;5;21mrun_etl\u001b[39m(player_name, max_matches\u001b[38;5;241m=\u001b[39m\u001b[38;5;241m3\u001b[39m):\n\u001b[0;32m      2\u001b[0m     \u001b[38;5;28mprint\u001b[39m(\u001b[38;5;124mf\u001b[39m\u001b[38;5;124m\"\u001b[39m\u001b[38;5;124mObteniendo ID para jugador: \u001b[39m\u001b[38;5;132;01m{\u001b[39;00mplayer_name\u001b[38;5;132;01m}\u001b[39;00m\u001b[38;5;124m\"\u001b[39m)\n\u001b[1;32m----> 3\u001b[0m     player_id \u001b[38;5;241m=\u001b[39m searchPlayer(player_name)\n\u001b[0;32m      5\u001b[0m     \u001b[38;5;28mprint\u001b[39m(\u001b[38;5;124m\"\u001b[39m\u001b[38;5;124mObteniendo lista de partidas...\u001b[39m\u001b[38;5;124m\"\u001b[39m)\n\u001b[0;32m      6\u001b[0m     matches \u001b[38;5;241m=\u001b[39m find_match_players(player_id)[:max_matches]\n",
      "Cell \u001b[1;32mIn[25], line 3\u001b[0m, in \u001b[0;36msearchPlayer\u001b[1;34m(player_name)\u001b[0m\n\u001b[0;32m      1\u001b[0m \u001b[38;5;28;01mdef\u001b[39;00m \u001b[38;5;21msearchPlayer\u001b[39m (player_name):\n\u001b[0;32m      2\u001b[0m     \u001b[38;5;66;03m# Endpoint to find player for name\u001b[39;00m\n\u001b[1;32m----> 3\u001b[0m     url \u001b[38;5;241m=\u001b[39m \u001b[38;5;124mf\u001b[39m\u001b[38;5;124m\"\u001b[39m\u001b[38;5;132;01m{\u001b[39;00mbase_url\u001b[38;5;132;01m}\u001b[39;00m\u001b[38;5;124m/players?filter[playerNames]=\u001b[39m\u001b[38;5;132;01m{\u001b[39;00mplayer_name\u001b[38;5;132;01m}\u001b[39;00m\u001b[38;5;124m\"\u001b[39m\n\u001b[0;32m      5\u001b[0m     \u001b[38;5;66;03m# Send the GET request to the API with authorization headers\u001b[39;00m\n\u001b[0;32m      6\u001b[0m     response \u001b[38;5;241m=\u001b[39m requests\u001b[38;5;241m.\u001b[39mget(url, headers\u001b[38;5;241m=\u001b[39mHEADERS)\n",
      "\u001b[1;31mNameError\u001b[0m: name 'base_url' is not defined"
     ]
    }
   ],
   "source": [
    "csv_paths = run_etl(\"KaDiz-\", max_matches=3)\n",
    "\n",
    "load_postgres(csv_paths[\"player_csv\"], table_name=\"players\", )\n",
    "load_postgres(csv_paths[\"rooster_csv\"], table_name=\"roosters\")\n",
    "load_postgres(csv_paths[\"match_csv\"], table_name=\"matches\")"
   ]
  },
  {
   "cell_type": "code",
   "execution_count": null,
   "metadata": {},
   "outputs": [],
   "source": []
  }
 ],
 "metadata": {
  "kernelspec": {
   "display_name": "base",
   "language": "python",
   "name": "python3"
  },
  "language_info": {
   "codemirror_mode": {
    "name": "ipython",
    "version": 3
   },
   "file_extension": ".py",
   "mimetype": "text/x-python",
   "name": "python",
   "nbconvert_exporter": "python",
   "pygments_lexer": "ipython3",
   "version": "3.12.7"
  }
 },
 "nbformat": 4,
 "nbformat_minor": 4
}
