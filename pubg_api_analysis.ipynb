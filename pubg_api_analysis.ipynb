{
 "cells": [
  {
   "cell_type": "markdown",
   "metadata": {
    "editable": true,
    "raw_mimetype": "",
    "slideshow": {
     "slide_type": "slide"
    },
    "tags": []
   },
   "source": [
    "# 📦 1. Import necessary libraries"
   ]
  },
  {
   "cell_type": "code",
   "execution_count": null,
   "metadata": {
    "editable": true,
    "slideshow": {
     "slide_type": ""
    },
    "tags": []
   },
   "outputs": [],
   "source": [
    "import requests\n",
    "import json\n",
    "from datetime import timedelta\n",
    "import pandas as pd\n",
    "from ApiKey import api_key\n",
    "import os"
   ]
  },
  {
   "cell_type": "markdown",
   "metadata": {},
   "source": [
    "# ------------------- CONFIG -------------------"
   ]
  },
  {
   "cell_type": "markdown",
   "metadata": {
    "editable": true,
    "slideshow": {
     "slide_type": ""
    },
    "tags": []
   },
   "source": [
    "# 🔐 2. Configure API key, headers, players name and url"
   ]
  },
  {
   "cell_type": "code",
   "execution_count": null,
   "metadata": {
    "editable": true,
    "slideshow": {
     "slide_type": ""
    },
    "tags": []
   },
   "outputs": [],
   "source": [
    "# We create the headers that PUBG requires to authenticate and specify the format\n",
    "HEADERS = {\n",
    "    \"Authorization\": f\"Bearer {api_key}\",\n",
    "    \"Accept\": \"application/vnd.api+json\"\n",
    "}\n",
    "\n",
    "# Name of player to search\n",
    "player_name  = 'arbigegegegegege'\n",
    "#player_name  = 'KaDiz-'\n",
    "#player_name  = 'XioYuanLinPay'\n",
    "\n",
    "# URL base to the PUBG API\n",
    "base_url = \"https://api.pubg.com/shards/steam\""
   ]
  },
  {
   "cell_type": "markdown",
   "metadata": {},
   "source": [
    "# ------------------- EXTRACT -------------------"
   ]
  },
  {
   "cell_type": "markdown",
   "metadata": {
    "editable": true,
    "raw_mimetype": "",
    "slideshow": {
     "slide_type": ""
    },
    "tags": []
   },
   "source": [
    "# 🎮 3. Find player ID"
   ]
  },
  {
   "cell_type": "code",
   "execution_count": null,
   "metadata": {},
   "outputs": [],
   "source": [
    "def searchPlayer (player_name):\n",
    "    # Endpoint to find player for name\n",
    "    url = f\"{base_url}/players?filter[playerNames]={player_name}\"\n",
    "    \n",
    "    # Send the GET request to the API with authorization headers\n",
    "    response = requests.get(url, headers=HEADERS)\n",
    "\n",
    "    # Raise an exception if the request failed (e.g., 404 or 500)\n",
    "    response.raise_for_status()    \n",
    "\n",
    "    #Save the information and transform with Json library and return the player id\n",
    "    data = response.json()\n",
    "    return data[\"data\"][0][\"id\"]\n",
    "    \n",
    "searchPlayer(player_name)"
   ]
  },
  {
   "cell_type": "markdown",
   "metadata": {
    "raw_mimetype": "",
    "slideshow": {
     "slide_type": ""
    },
    "tags": []
   },
   "source": [
    "# 🎯 4. Obtain matches from the player"
   ]
  },
  {
   "cell_type": "code",
   "execution_count": null,
   "metadata": {
    "scrolled": true
   },
   "outputs": [],
   "source": [
    "def find_match_players(player_id):\n",
    "    # Endpoint to obtain data of the player from id\n",
    "    url = f\"{base_url}/players/{player_id}\"\n",
    "\n",
    "    # Send the GET request to the API with authorization headers\n",
    "    response = requests.get(url, headers=HEADERS)\n",
    "    \n",
    "    # Raise an exception if the request failed (e.g., 404 or 500)\n",
    "    response.raise_for_status()  \n",
    "\n",
    "    # Returns all of matches from the player\n",
    "    return response.json()[\"data\"][\"relationships\"][\"matches\"][\"data\"]\n",
    "\n",
    "find_match_players(searchPlayer(player_name))\n"
   ]
  },
  {
   "cell_type": "markdown",
   "metadata": {},
   "source": [
    "# 📊 5. Obtain match details"
   ]
  },
  {
   "cell_type": "code",
   "execution_count": null,
   "metadata": {
    "scrolled": true
   },
   "outputs": [],
   "source": [
    "def extract_match_details(match_id):\n",
    "    # Construct the API endpoint URL using the match ID\n",
    "    url = f\"{base_url}/matches/{match_id}\"\n",
    "    \n",
    "    # Send the GET request to the API with authorization headers\n",
    "    response = requests.get(url, headers=HEADERS)\n",
    "    \n",
    "    # Raise an exception if the request failed (e.g., 404 or 500)\n",
    "    response.raise_for_status()\n",
    "    \n",
    "    # Return the JSON response containing match details\n",
    "    return response.json()\n",
    "\n",
    "extract_match_details(find_match_players(searchPlayer(player_name))[0]['id'])\n"
   ]
  },
  {
   "cell_type": "markdown",
   "metadata": {},
   "source": [
    "# 📊 6. Obtain telemetry details"
   ]
  },
  {
   "cell_type": "code",
   "execution_count": null,
   "metadata": {},
   "outputs": [],
   "source": [
    "def download_telemetry(match_id):\n",
    "    url = f\"{base_url}/matches/{match_id}\"\n",
    "    response = requests.get(url, headers=HEADERS)\n",
    "    response.raise_for_status()\n",
    "    match_data = response.json()\n",
    "\n",
    "    # Obtener asset ID de telemetría\n",
    "    asset_id = match_data['data']['relationships']['assets']['data'][0]['id']\n",
    "\n",
    "    # Buscar el asset en el array 'included'\n",
    "    asset = next((item for item in match_data['included'] if item['type'] == 'asset' and item['id'] == asset_id), None)\n",
    "    if asset is None:\n",
    "        print(\"❌ Telemetry asset not found.\")\n",
    "        return match_data\n",
    "\n",
    "    telemetry_url = asset['attributes']['URL']\n",
    "    \n",
    "    tele_response = requests.get(telemetry_url, headers={\"Accept-Encoding\": \"gzip\"})\n",
    "    tele_response.raise_for_status()\n",
    "\n",
    "    os.makedirs(\"telemetry\", exist_ok=True)\n",
    "    filepath = f\"telemetry/{match_id}_telemetry.json\"\n",
    "    with open(filepath, \"wb\") as f:\n",
    "        f.write(tele_response.content)\n",
    "\n",
    "    print(f\"✅ Telemetría guardada en {filepath}\")\n",
    "\n",
    "download_telemetry(find_match_players(searchPlayer(player_name))[0]['id'])"
   ]
  },
  {
   "cell_type": "markdown",
   "metadata": {
    "editable": true,
    "raw_mimetype": "",
    "slideshow": {
     "slide_type": ""
    },
    "tags": []
   },
   "source": [
    "# ------------------- TRANSFORM -------------------"
   ]
  },
  {
   "cell_type": "code",
   "execution_count": null,
   "metadata": {},
   "outputs": [],
   "source": [
    "def player_match_info(match_data):\n",
    "    participants = [x for x in match_data['included'] if x['type'] == 'participant']\n",
    "    rows = []\n",
    "    for p in participants:\n",
    "        stats = p['attributes']['stats']\n",
    "        rows.append({\n",
    "            \"name\": stats['name'],\n",
    "            \"playerId\": stats[\"playerId\"],\n",
    "            \"kills\": stats['kills'],\n",
    "            \"longestKill\": stats[\"longestKill\"],\n",
    "            \"killPlace\": stats[\"killPlace\"],\n",
    "            \"assists\": stats[\"assists\"],\n",
    "            \"damageDealt\": stats['damageDealt'],\n",
    "            \"winPlace\": stats['winPlace'],\n",
    "            \"timeSurvived\": str(pd.to_timedelta(stats['timeSurvived'], unit='s')).split()[-1],\n",
    "            \"heals\": stats[\"heals\"],\n",
    "            \"boosts\": stats[\"boosts\"],\n",
    "            \"deathType\": stats[\"deathType\"],\n",
    "            \"walkDistance\": stats[\"walkDistance\"],\n",
    "            \"rideDistance\": stats[\"rideDistance\"],\n",
    "            \"swimDistance\": stats[\"swimDistance\"],\n",
    "            \"vehicleDestroys\": stats[\"vehicleDestroys\"]\n",
    "        })\n",
    "    return pd.DataFrame(rows)\n",
    "\n",
    "player_match_info(extract_match_details(find_match_players(searchPlayer(player_name))[0]['id']))"
   ]
  },
  {
   "cell_type": "code",
   "execution_count": null,
   "metadata": {},
   "outputs": [],
   "source": [
    "def match_info(match_data):\n",
    "    data = match_data['data']['attributes']\n",
    "    rows = []\n",
    "    rows.append({\n",
    "            \"gameMode\":data['gameMode'],\n",
    "            \"mapName\": data[\"mapName\"],\n",
    "            \"createdAt\": data['createdAt'],\n",
    "            \"isCustomMatch\": data[\"isCustomMatch\"],\n",
    "            \"matchType\": data[\"matchType\"],\n",
    "            \"seasonState\": data[\"seasonState\"]\n",
    "    })\n",
    "        \n",
    "    return pd.DataFrame(rows)\n",
    "\n",
    "\n",
    "match_info(extract_match_details(find_match_players(searchPlayer(player_name))[1]['id']))"
   ]
  },
  {
   "cell_type": "code",
   "execution_count": null,
   "metadata": {},
   "outputs": [],
   "source": [
    "def rooster_info(match_data):\n",
    "    rosters = match_data['data']['relationships']['rosters']['data']\n",
    "    rows = []\n",
    "    for r in rosters:\n",
    "        rows.append({\n",
    "            \"id\": r['id']\n",
    "        })\n",
    "        \n",
    "    return pd.DataFrame(rows)\n",
    "\n",
    "\n",
    "rooster_info(extract_match_details(find_match_players(searchPlayer(player_name))[1]['id']))"
   ]
  },
  {
   "cell_type": "markdown",
   "metadata": {},
   "source": [
    "# 📊 5.2 Mostrar la media de los ultimos 10 matchs"
   ]
  },
  {
   "cell_type": "code",
   "execution_count": null,
   "metadata": {},
   "outputs": [],
   "source": [
    "# Variables para acumular los resultados\n",
    "total_kills = 0\n",
    "total_damage = 0\n",
    "total_time_survived = 0\n",
    "total_ranking = 0\n",
    "total_wins = 0\n",
    "total_kill_place = 0\n",
    "total_kill_streaks = 0\n",
    "num_matches = 0  # Para contar el número de partidas procesadas\n",
    "\n",
    "# Recorremos cada match_id para obtener información de la partida\n",
    "for match_id  in match_ids:\n",
    "    # Endpoint para obtener datos del match\n",
    "    url = f\"https://api.pubg.com/shards/steam/matches/{match_id}\"\n",
    "    \n",
    "    # Hacemos la petición para obtener los datos de la partida\n",
    "    response = requests.get(url, headers=headers)\n",
    "    \n",
    "    # Convertimos la respuesta a JSON\n",
    "    match_data = response.json()\n",
    "    \n",
    "    # Accedemos a la información del jugador dentro de esa partida\n",
    "    participants = match_data[\"included\"]\n",
    "\n",
    "    # Buscamos al jugador en esa partida (comparando player_id)\n",
    "    for player in participants:\n",
    "        if player[\"type\"] == \"participant\" and \"stats\" in player[\"attributes\"]:\n",
    "            stats = player[\"attributes\"][\"stats\"]\n",
    "           \n",
    "            # Verifica si el jugador es el que estás buscando\n",
    "            if stats.get(\"playerId\") == player_id:\n",
    "                kills = stats.get(\"kills\", 0)\n",
    "                killPlace = stats.get(\"killPlace\", 0)\n",
    "                killStreaks = stats.get(\"killStreaks\", 0)\n",
    "                damage = stats.get(\"damageDealt\", 0)\n",
    "                duracion = timedelta(seconds=stats.get(\"timeSurvived\", 0))\n",
    "                ranking = stats.get(\"winPlace\", 0)\n",
    "                win = ranking == 1\n",
    "                \n",
    "                # Acumular los valores\n",
    "                total_kills += kills\n",
    "                total_damage += damage\n",
    "                total_time_survived += stats.get(\"timeSurvived\", 0)\n",
    "                total_ranking += ranking\n",
    "                total_wins += win\n",
    "                total_kill_place += killPlace\n",
    "                total_kill_streaks += killStreaks\n",
    "                num_matches += 1\n",
    "\n",
    "# Calcular las medias\n",
    "if num_matches > 0:\n",
    "    avg_kills = total_kills / num_matches\n",
    "    avg_damage = total_damage / num_matches\n",
    "    avg_time_survived = timedelta(seconds=(total_time_survived / num_matches))\n",
    "    avg_ranking = total_ranking / num_matches\n",
    "    avg_wins = total_wins / num_matches\n",
    "    avg_kill_place = total_kill_place / num_matches\n",
    "    avg_kill_streaks = total_kill_streaks / num_matches\n",
    "\n",
    "    # Mostrar las medias\n",
    "    print(\"Average Stats over the last 10 matches:\")\n",
    "    print(f\"Average Kills: {avg_kills:.2f}\")\n",
    "    print(f\"Average Damage: {avg_damage:.2f}\")\n",
    "    print(f\"Average Time Survived: {avg_time_survived}\")\n",
    "    print(f\"Average Ranking: {avg_ranking:.2f}\")\n",
    "    print(f\"Average Wins: {avg_wins:.2f}\")\n",
    "    print(f\"Average Kill Place: {avg_kill_place:.2f}\")\n",
    "    print(f\"Average Kill Streaks: {avg_kill_streaks:.2f}\")\n",
    "else:\n",
    "    print(\"No matches found.\")"
   ]
  },
  {
   "cell_type": "markdown",
   "metadata": {
    "editable": true,
    "raw_mimetype": "",
    "slideshow": {
     "slide_type": ""
    },
    "tags": []
   },
   "source": [
    "# 📊 5.5 Mostrar detalles del primer match obteniendo todos los jugadores y equipos"
   ]
  },
  {
   "cell_type": "code",
   "execution_count": null,
   "metadata": {
    "editable": true,
    "scrolled": true,
    "slideshow": {
     "slide_type": ""
    },
    "tags": []
   },
   "outputs": [],
   "source": [
    "# Recorremos cada match_id para obtener información de la partida\n",
    "for match_id  in last_Match_id:\n",
    "    # Endpoint para obtener datos del match\n",
    "    url = f\"https://api.pubg.com/shards/steam/matches/{match_id}\"\n",
    "    \n",
    "    # Hacemos la petición para obtener los datos de la partida\n",
    "    response = requests.get(url, headers=headers)\n",
    "    \n",
    "    # Convertimos la respuesta a JSON\n",
    "    match_data = response.json()\n",
    "    \n",
    "    # Buscamos al jugador en esa partida (comparando player_id)\n",
    "    roster_match = match_data[\"included\"]\n",
    "    all_participants = []  # ← Aquí guardaremos todos los participantes\n",
    "\n",
    "    # Primero, recogemos todos los participantes\n",
    "    for data in roster_match:\n",
    "        if data[\"type\"] == \"participant\":\n",
    "            all_participants.append(data)\n",
    "\n",
    "    # Usamos un set para llevar control de los jugadores ya procesados y evitar duplicados\n",
    "    seen_players = set()\n",
    "\n",
    "    # Suponiendo que tienes una lista de rosters\n",
    "    for data in roster_match:  \n",
    "        if data[\"type\"] == \"roster\":\n",
    "            team_id = data[\"id\"]\n",
    "            team_rank = data[\"attributes\"][\"stats\"].get(\"rank\", \"Desconocido\")\n",
    "            team_Id = data[\"attributes\"][\"stats\"].get(\"teamId\", \"Desconocido\")\n",
    "            team_win = data[\"attributes\"][\"won\"] == \"true\"\n",
    "            participants = data[\"relationships\"][\"participants\"][\"data\"]\n",
    "\n",
    "            print(f\"Match ID: {match_id}\")\n",
    "            print(f\"team id: {team_id}\")\n",
    "            print(f\"team nº: {team_Id}\")\n",
    "            print(f\"team rank: {team_rank}\")\n",
    "            print(f\"Win?: {'Yes' if team_win else 'No'} \\n\")   \n",
    "\n",
    "            #Buscar jugadores en el roster y sus estadísticas\n",
    "            for player_info in participants:\n",
    "                player_id = player_info[\"id\"]  # ID del jugador en el roster\n",
    "                \n",
    "                # Evitamos imprimir jugadores repetidos\n",
    "                if player_id in seen_players:\n",
    "                    continue\n",
    "                seen_players.add(player_id)  # Lo marcamos como \"visto\"\n",
    "\n",
    "                # Buscar el participante con ese ID\n",
    "                player = next((p for p in all_participants if p[\"id\"] == player_id), None)\n",
    "\n",
    "                if not player or \"attributes\" not in player or \"stats\" not in player[\"attributes\"]:\n",
    "                    continue\n",
    "\n",
    "                stats = player[\"attributes\"][\"stats\"]\n",
    "                kills = stats.get(\"kills\", 0)\n",
    "                name_player = stats.get(\"name\", \"Desconocido\")\n",
    "                damage = stats.get(\"damageDealt\", 0)\n",
    "                ranking = stats.get(\"winPlace\", 0)\n",
    "                duracion = timedelta(seconds=stats.get(\"timeSurvived\", 0))\n",
    "                win = ranking == 1\n",
    "\n",
    "                # Mostrar detalles del jugador\n",
    "                print(f\"Player ID: {player_id}\")\n",
    "                print(f\"Player Name: {name_player}\")\n",
    "                print(f\"Kills: {kills}\")\n",
    "                print(f\"Damage: {damage}\")\n",
    "                print(f\"Time survived: {duracion}\")\n",
    "                print(f\"Ranking: {ranking} \\n\")"
   ]
  },
  {
   "cell_type": "markdown",
   "metadata": {},
   "source": [
    "# Adaptando el codigo a Pandas"
   ]
  },
  {
   "cell_type": "code",
   "execution_count": null,
   "metadata": {
    "scrolled": true
   },
   "outputs": [],
   "source": [
    "print(json.dumps(dataOriginal, indent=4))"
   ]
  },
  {
   "cell_type": "code",
   "execution_count": null,
   "metadata": {},
   "outputs": [],
   "source": [
    "# Suponiendo que tu variable es 'data' \n",
    "players = dataOriginal[\"data\"]\n",
    "\n",
    "# Normalizamos todo lo posible, separando las claves anidadas con \"_\"\n",
    "df = pd.json_normalize(players, sep=\"_\")\n",
    "\n",
    "# Mostramos el DataFrame completo\n",
    "df\n"
   ]
  },
  {
   "cell_type": "code",
   "execution_count": null,
   "metadata": {
    "scrolled": true
   },
   "outputs": [],
   "source": [
    "# Normalizar los matches dentro de relationships.matches.data\n",
    "df_matches = pd.json_normalize(\n",
    "    players,\n",
    "    record_path=[\"relationships\", \"matches\", \"data\"],\n",
    "    sep=\"_\"\n",
    ")\n",
    "\n",
    "# Mostramos el DataFrame completo\n",
    "df_matches"
   ]
  },
  {
   "cell_type": "code",
   "execution_count": null,
   "metadata": {},
   "outputs": [],
   "source": [
    "# URL para obtener las seasons\n",
    "urlSeasonActual = \"https://api.pubg.com/shards/steam/seasons\"\n",
    "\n",
    "\n",
    "# Hacemos la petición\n",
    "responseActualSeason = requests.get(urlSeasonActual, headers=headers)\n",
    "\n",
    "# Verificamos y extraemos el seasonId actual\n",
    "if responseActualSeason.status_code == 200:\n",
    "    seasons = responseActualSeason.json()\n",
    "    \n",
    "    # Buscamos la temporada actual\n",
    "    season_id = None\n",
    "    for s in seasons[\"data\"]:\n",
    "        if s[\"attributes\"].get(\"isCurrentSeason\"):\n",
    "            season_id = s[\"id\"]\n",
    "            break\n",
    "\n",
    "    if season_id is None:\n",
    "        print(\"No se encontró la temporada actual.\")\n",
    "    else:\n",
    "        # Armamos el endpoint con el season actual\n",
    "        endpointSeason = f\"https://api.pubg.com/shards/steam/players/{player_id}/seasons/{season_id}/ranked\"\n",
    "\n",
    "        # Hacemos la petición\n",
    "        response = requests.get(endpointSeason, headers=headers)\n",
    "\n",
    "        if response.status_code == 200:\n",
    "            dataSeason = response.json()\n",
    "            print(\"Todo Correcto, arcivhos guardado en data\")\n",
    "        else:\n",
    "            print(\"Error en ranked:\", response.status_code)\n",
    "else:\n",
    "    print(\"Error al obtener seasons:\", responseActualSeason.status_code)\n"
   ]
  },
  {
   "cell_type": "code",
   "execution_count": null,
   "metadata": {
    "scrolled": true
   },
   "outputs": [],
   "source": [
    "print(json.dumps(dataSeason, indent=4))"
   ]
  }
 ],
 "metadata": {
  "kernelspec": {
   "display_name": "Python [conda env:base] *",
   "language": "python",
   "name": "conda-base-py"
  },
  "language_info": {
   "codemirror_mode": {
    "name": "ipython",
    "version": 3
   },
   "file_extension": ".py",
   "mimetype": "text/x-python",
   "name": "python",
   "nbconvert_exporter": "python",
   "pygments_lexer": "ipython3",
   "version": "3.12.7"
  }
 },
 "nbformat": 4,
 "nbformat_minor": 4
}
