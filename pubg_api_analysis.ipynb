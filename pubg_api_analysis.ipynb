{
 "cells": [
  {
   "cell_type": "markdown",
   "metadata": {
    "editable": true,
    "raw_mimetype": "",
    "slideshow": {
     "slide_type": "slide"
    },
    "tags": []
   },
   "source": [
    "# 📦 1. Importar librerías necesarias\n"
   ]
  },
  {
   "cell_type": "code",
   "execution_count": null,
   "metadata": {
    "editable": true,
    "slideshow": {
     "slide_type": ""
    },
    "tags": []
   },
   "outputs": [],
   "source": [
    "import requests\n",
    "from time import sleep\n",
    "import json\n",
    "from datetime import timedelta\n",
    "import pandas as pd"
   ]
  },
  {
   "cell_type": "markdown",
   "metadata": {
    "editable": true,
    "slideshow": {
     "slide_type": ""
    },
    "tags": []
   },
   "source": [
    "# 🔐 2. Configurar clave API y headers"
   ]
  },
  {
   "cell_type": "code",
   "execution_count": null,
   "metadata": {
    "editable": true,
    "slideshow": {
     "slide_type": ""
    },
    "tags": []
   },
   "outputs": [],
   "source": [
    "# API Key \n",
    "api_key = 'REMOVED_API_KEY'\n",
    "\n",
    "# Creamos los headers que exige PUBG para autenticar y especificar el formato\n",
    "headers = {\n",
    "    \"Authorization\": f\"Bearer {api_key}\",\n",
    "    \"Accept\": \"application/vnd.api+json\"\n",
    "}"
   ]
  },
  {
   "cell_type": "markdown",
   "metadata": {
    "editable": true,
    "raw_mimetype": "",
    "slideshow": {
     "slide_type": ""
    },
    "tags": []
   },
   "source": [
    "# 🎮 3. Buscar el ID del jugador"
   ]
  },
  {
   "cell_type": "code",
   "execution_count": null,
   "metadata": {},
   "outputs": [],
   "source": [
    "# URL base de la API de PUBG \n",
    "base_url = \"https://api.pubg.com/shards/steam\"\n",
    "\n",
    "# Nombre del jugador a buscar\n",
    "player_name  = 'arbigegegegegege'\n",
    "#player_name  = 'KaDiz-'\n",
    "#player_name  = 'XioYuanLinPay'\n",
    "\n",
    "# Endpoint para buscar jugadores por nombre\n",
    "url = f\"{base_url}/players?filter[playerNames]={player_name}\"\n",
    "\n",
    "# Hacemos la petición\n",
    "response = requests.get(url, headers=headers)\n",
    "\n",
    "# Mostramos el código de respuesta para verificar que todo va bien (200 = OK)\n",
    "print(\"Código de estado:\", response.status_code)"
   ]
  },
  {
   "cell_type": "markdown",
   "metadata": {
    "editable": true,
    "raw_mimetype": "",
    "slideshow": {
     "slide_type": ""
    },
    "tags": []
   },
   "source": [
    "# 🎮 3.5 Respuesta y usuario encontrado"
   ]
  },
  {
   "cell_type": "code",
   "execution_count": null,
   "metadata": {},
   "outputs": [],
   "source": [
    "# Si todo va bien, extraemos el ID del jugador\n",
    "if response.status_code == 200:\n",
    "    data = response.json()\n",
    "    dataOriginal = response.json()\n",
    "    player_id = data[\"data\"][0][\"id\"]\n",
    "    print(f\"ID del jugador {player_name}: {player_id}\")\n",
    "else:\n",
    "    print(\"Error al obtener los datos:\", response.text)"
   ]
  },
  {
   "cell_type": "markdown",
   "metadata": {
    "editable": true,
    "raw_mimetype": "",
    "scrolled": true,
    "slideshow": {
     "slide_type": ""
    },
    "tags": []
   },
   "source": [
    "# Pequeña prueba para ver como es la estructura del json."
   ]
  },
  {
   "cell_type": "code",
   "execution_count": null,
   "metadata": {
    "editable": true,
    "scrolled": true,
    "slideshow": {
     "slide_type": ""
    },
    "tags": []
   },
   "outputs": [],
   "source": [
    "print(json.dumps(data, indent=4))"
   ]
  },
  {
   "cell_type": "markdown",
   "metadata": {
    "raw_mimetype": "",
    "slideshow": {
     "slide_type": ""
    },
    "tags": []
   },
   "source": [
    "# 🎯 4. Obtener matches jugados por el jugador"
   ]
  },
  {
   "cell_type": "code",
   "execution_count": null,
   "metadata": {},
   "outputs": [],
   "source": [
    "# Endpoint para obtener datos del player por id\n",
    "url_id = f\"https://api.pubg.com/shards/steam/players/{player_id}\"\n",
    "\n",
    "# Hacemos la petición\n",
    "response_id = requests.get(url_id, headers=headers)\n",
    "\n",
    "# Convertimos la respuesta a JSON\n",
    "data_id = response_id.json()\n",
    "\n",
    "# Accedemos a los matches jugados por el jugador\n",
    "matches = data_id[\"data\"][\"relationships\"][\"matches\"][\"data\"]\n",
    "for i, match in enumerate(matches[:10]):\n",
    "    print(f\"Match {i+1}: {match['id']}\")\n",
    "\n",
    "# Guardamos los match_ids en la lista (Solo guardamos 1 de momento para probar)\n",
    "match_ids = [match[\"id\"] for match in matches[:10]]\n",
    "last_Match_id = [match[\"id\"] for match in matches[:1]]"
   ]
  },
  {
   "cell_type": "markdown",
   "metadata": {
    "editable": true,
    "raw_mimetype": "",
    "slideshow": {
     "slide_type": ""
    },
    "tags": []
   },
   "source": [
    "# 📊 5. Mostrar detalles del primer match del jugador"
   ]
  },
  {
   "cell_type": "code",
   "execution_count": null,
   "metadata": {
    "editable": true,
    "scrolled": true,
    "slideshow": {
     "slide_type": ""
    },
    "tags": []
   },
   "outputs": [],
   "source": [
    "# Recorremos cada match_id para obtener información de la partida\n",
    "for match_id  in match_ids:\n",
    "    # Endpoint para obtener datos del match\n",
    "    url = f\"https://api.pubg.com/shards/steam/matches/{match_id}\"\n",
    "    \n",
    "    # Hacemos la petición para obtener los datos de la partida\n",
    "    response = requests.get(url, headers=headers)\n",
    "    \n",
    "    # Convertimos la respuesta a JSON\n",
    "    match_data = response.json()\n",
    "    \n",
    "    # Accedemos a la información del jugador dentro de esa partida\n",
    "    participants = match_data[\"included\"]\n",
    "\n",
    "    # Buscamos al jugador en esa partida (comparando player_id)\n",
    "    for player in participants:\n",
    "        if player[\"type\"] == \"participant\" and \"stats\" in player[\"attributes\"]:\n",
    "            stats = player[\"attributes\"][\"stats\"]\n",
    "           \n",
    "            # Verifica si el jugador es el que estás buscando\n",
    "            if stats.get(\"playerId\") == player_id:\n",
    "                kills = stats.get(\"kills\", 0)\n",
    "                name_player = stats.get(\"name\", \"\")\n",
    "                killPlace = stats.get(\"killPlace\",0)\n",
    "                killStreaks = stats.get(\"killStreaks\",0)\n",
    "                damage = stats.get(\"damageDealt\", 0)                \n",
    "                duracion = timedelta(seconds=stats.get(\"timeSurvived\", 0))\n",
    "                ranking = stats.get(\"winPlace\", 0)\n",
    "                win = ranking == 1\n",
    "                \n",
    "                # Imprimir los resultados de la partida\n",
    "                print(f\"Match ID: {match_id}\")\n",
    "                print(f\"Player Name: {name_player}\")\n",
    "                print(f\"Kills: {kills}\")\n",
    "                print(f\"killPlace: {killPlace}\")\n",
    "                print(f\"killStreaks: {killStreaks}\")\n",
    "                print(f\"Damage: {damage}\")\n",
    "                print(f\"Time survived: {duracion}\")\n",
    "                print(f\"Ranking: {ranking}\")\n",
    "                print(f\"Win: {'Yes' if win else 'No'}\\n\")"
   ]
  },
  {
   "cell_type": "code",
   "execution_count": null,
   "metadata": {},
   "outputs": [],
   "source": [
    "# Variables para acumular los resultados\n",
    "total_kills = 0\n",
    "total_damage = 0\n",
    "total_time_survived = 0\n",
    "total_ranking = 0\n",
    "total_wins = 0\n",
    "total_kill_place = 0\n",
    "total_kill_streaks = 0\n",
    "num_matches = 0  # Para contar el número de partidas procesadas\n",
    "\n",
    "# Recorremos cada match_id para obtener información de la partida\n",
    "for match_id  in match_ids:\n",
    "    # Endpoint para obtener datos del match\n",
    "    url = f\"https://api.pubg.com/shards/steam/matches/{match_id}\"\n",
    "    \n",
    "    # Hacemos la petición para obtener los datos de la partida\n",
    "    response = requests.get(url, headers=headers)\n",
    "    \n",
    "    # Convertimos la respuesta a JSON\n",
    "    match_data = response.json()\n",
    "    \n",
    "    # Accedemos a la información del jugador dentro de esa partida\n",
    "    participants = match_data[\"included\"]\n",
    "\n",
    "    # Buscamos al jugador en esa partida (comparando player_id)\n",
    "    for player in participants:\n",
    "        if player[\"type\"] == \"participant\" and \"stats\" in player[\"attributes\"]:\n",
    "            stats = player[\"attributes\"][\"stats\"]\n",
    "           \n",
    "            # Verifica si el jugador es el que estás buscando\n",
    "            if stats.get(\"playerId\") == player_id:\n",
    "                kills = stats.get(\"kills\", 0)\n",
    "                killPlace = stats.get(\"killPlace\", 0)\n",
    "                killStreaks = stats.get(\"killStreaks\", 0)\n",
    "                damage = stats.get(\"damageDealt\", 0)\n",
    "                duracion = timedelta(seconds=stats.get(\"timeSurvived\", 0))\n",
    "                ranking = stats.get(\"winPlace\", 0)\n",
    "                win = ranking == 1\n",
    "                \n",
    "                # Acumular los valores\n",
    "                total_kills += kills\n",
    "                total_damage += damage\n",
    "                total_time_survived += stats.get(\"timeSurvived\", 0)\n",
    "                total_ranking += ranking\n",
    "                total_wins += win\n",
    "                total_kill_place += killPlace\n",
    "                total_kill_streaks += killStreaks\n",
    "                num_matches += 1\n",
    "\n",
    "# Calcular las medias\n",
    "if num_matches > 0:\n",
    "    avg_kills = total_kills / num_matches\n",
    "    avg_damage = total_damage / num_matches\n",
    "    avg_time_survived = timedelta(seconds=(total_time_survived / num_matches))\n",
    "    avg_ranking = total_ranking / num_matches\n",
    "    avg_wins = total_wins / num_matches\n",
    "    avg_kill_place = total_kill_place / num_matches\n",
    "    avg_kill_streaks = total_kill_streaks / num_matches\n",
    "\n",
    "    # Mostrar las medias\n",
    "    print(\"Average Stats over the last 10 matches:\")\n",
    "    print(f\"Average Kills: {avg_kills:.2f}\")\n",
    "    print(f\"Average Damage: {avg_damage:.2f}\")\n",
    "    print(f\"Average Time Survived: {avg_time_survived}\")\n",
    "    print(f\"Average Ranking: {avg_ranking:.2f}\")\n",
    "    print(f\"Average Wins: {avg_wins:.2f}\")\n",
    "    print(f\"Average Kill Place: {avg_kill_place:.2f}\")\n",
    "    print(f\"Average Kill Streaks: {avg_kill_streaks:.2f}\")\n",
    "else:\n",
    "    print(\"No matches found.\")"
   ]
  },
  {
   "cell_type": "markdown",
   "metadata": {
    "editable": true,
    "raw_mimetype": "",
    "slideshow": {
     "slide_type": ""
    },
    "tags": []
   },
   "source": [
    "# 📊 5.5 Mostrar detalles del primer match obteniendo todos los jugadores y equipos"
   ]
  },
  {
   "cell_type": "code",
   "execution_count": null,
   "metadata": {
    "editable": true,
    "scrolled": true,
    "slideshow": {
     "slide_type": ""
    },
    "tags": []
   },
   "outputs": [],
   "source": [
    "# Recorremos cada match_id para obtener información de la partida\n",
    "for match_id  in last_Match_id:\n",
    "    # Endpoint para obtener datos del match\n",
    "    url = f\"https://api.pubg.com/shards/steam/matches/{match_id}\"\n",
    "    \n",
    "    # Hacemos la petición para obtener los datos de la partida\n",
    "    response = requests.get(url, headers=headers)\n",
    "    \n",
    "    # Convertimos la respuesta a JSON\n",
    "    match_data = response.json()\n",
    "    \n",
    "    # Buscamos al jugador en esa partida (comparando player_id)\n",
    "    roster_match = match_data[\"included\"]\n",
    "    all_participants = []  # ← Aquí guardaremos todos los participantes\n",
    "\n",
    "    # Primero, recogemos todos los participantes\n",
    "    for data in roster_match:\n",
    "        if data[\"type\"] == \"participant\":\n",
    "            all_participants.append(data)\n",
    "\n",
    "    # Usamos un set para llevar control de los jugadores ya procesados y evitar duplicados\n",
    "    seen_players = set()\n",
    "\n",
    "    # Suponiendo que tienes una lista de rosters\n",
    "    for data in roster_match:  \n",
    "        if data[\"type\"] == \"roster\":\n",
    "            team_id = data[\"id\"]\n",
    "            team_rank = data[\"attributes\"][\"stats\"].get(\"rank\", \"Desconocido\")\n",
    "            team_Id = data[\"attributes\"][\"stats\"].get(\"teamId\", \"Desconocido\")\n",
    "            team_win = data[\"attributes\"][\"won\"] == \"true\"\n",
    "            participants = data[\"relationships\"][\"participants\"][\"data\"]\n",
    "\n",
    "            print(f\"Match ID: {match_id}\")\n",
    "            print(f\"team id: {team_id}\")\n",
    "            print(f\"team nº: {team_Id}\")\n",
    "            print(f\"team rank: {team_rank}\")\n",
    "            print(f\"Win?: {'Yes' if team_win else 'No'} \\n\")   \n",
    "\n",
    "            #Buscar jugadores en el roster y sus estadísticas\n",
    "            for player_info in participants:\n",
    "                player_id = player_info[\"id\"]  # ID del jugador en el roster\n",
    "                \n",
    "                # Evitamos imprimir jugadores repetidos\n",
    "                if player_id in seen_players:\n",
    "                    continue\n",
    "                seen_players.add(player_id)  # Lo marcamos como \"visto\"\n",
    "\n",
    "                # Buscar el participante con ese ID\n",
    "                player = next((p for p in all_participants if p[\"id\"] == player_id), None)\n",
    "\n",
    "                if not player or \"attributes\" not in player or \"stats\" not in player[\"attributes\"]:\n",
    "                    continue\n",
    "\n",
    "                stats = player[\"attributes\"][\"stats\"]\n",
    "                kills = stats.get(\"kills\", 0)\n",
    "                name_player = stats.get(\"name\", \"Desconocido\")\n",
    "                damage = stats.get(\"damageDealt\", 0)\n",
    "                ranking = stats.get(\"winPlace\", 0)\n",
    "                duracion = timedelta(seconds=stats.get(\"timeSurvived\", 0))\n",
    "                win = ranking == 1\n",
    "\n",
    "                # Mostrar detalles del jugador\n",
    "                print(f\"Player ID: {player_id}\")\n",
    "                print(f\"Player Name: {name_player}\")\n",
    "                print(f\"Kills: {kills}\")\n",
    "                print(f\"Damage: {damage}\")\n",
    "                print(f\"Time survived: {duracion}\")\n",
    "                print(f\"Ranking: {ranking} \\n\")"
   ]
  },
  {
   "cell_type": "markdown",
   "metadata": {},
   "source": [
    "# Adaptando el codigo a Pandas"
   ]
  },
  {
   "cell_type": "code",
   "execution_count": null,
   "metadata": {
    "scrolled": true
   },
   "outputs": [],
   "source": [
    "print(json.dumps(dataOriginal, indent=4))"
   ]
  },
  {
   "cell_type": "code",
   "execution_count": null,
   "metadata": {},
   "outputs": [],
   "source": [
    "# Suponiendo que tu variable es 'data' \n",
    "players = dataOriginal[\"data\"]\n",
    "\n",
    "# Normalizamos todo lo posible, separando las claves anidadas con \"_\"\n",
    "df = pd.json_normalize(players, sep=\"_\")\n",
    "\n",
    "# Mostramos el DataFrame completo\n",
    "df\n"
   ]
  },
  {
   "cell_type": "code",
   "execution_count": null,
   "metadata": {
    "scrolled": true
   },
   "outputs": [],
   "source": [
    "# Normalizar los matches dentro de relationships.matches.data\n",
    "df_matches = pd.json_normalize(\n",
    "    players,\n",
    "    record_path=[\"relationships\", \"matches\", \"data\"],\n",
    "    sep=\"_\"\n",
    ")\n",
    "\n",
    "# Mostramos el DataFrame completo\n",
    "df_matches"
   ]
  },
  {
   "cell_type": "code",
   "execution_count": null,
   "metadata": {},
   "outputs": [],
   "source": [
    "# URL para obtener las seasons\n",
    "urlSeasonActual = \"https://api.pubg.com/shards/steam/seasons\"\n",
    "\n",
    "\n",
    "# Hacemos la petición\n",
    "responseActualSeason = requests.get(urlSeasonActual, headers=headers)\n",
    "\n",
    "# Verificamos y extraemos el seasonId actual\n",
    "if responseActualSeason.status_code == 200:\n",
    "    seasons = responseActualSeason.json()\n",
    "    \n",
    "    # Buscamos la temporada actual\n",
    "    season_id = None\n",
    "    for s in seasons[\"data\"]:\n",
    "        if s[\"attributes\"].get(\"isCurrentSeason\"):\n",
    "            season_id = s[\"id\"]\n",
    "            break\n",
    "\n",
    "    if season_id is None:\n",
    "        print(\"No se encontró la temporada actual.\")\n",
    "    else:\n",
    "        # Armamos el endpoint con el season actual\n",
    "        endpointSeason = f\"https://api.pubg.com/shards/steam/players/{player_id}/seasons/{season_id}/ranked\"\n",
    "\n",
    "        # Hacemos la petición\n",
    "        response = requests.get(endpointSeason, headers=headers)\n",
    "\n",
    "        if response.status_code == 200:\n",
    "            dataSeason = response.json()\n",
    "            print(\"Todo Correcto, arcivhos guardado en data\")\n",
    "        else:\n",
    "            print(\"Error en ranked:\", response.status_code)\n",
    "else:\n",
    "    print(\"Error al obtener seasons:\", responseActualSeason.status_code)\n"
   ]
  },
  {
   "cell_type": "code",
   "execution_count": null,
   "metadata": {
    "scrolled": true
   },
   "outputs": [],
   "source": [
    "print(json.dumps(dataSeason, indent=4))"
   ]
  }
 ],
 "metadata": {
  "kernelspec": {
   "display_name": "base",
   "language": "python",
   "name": "python3"
  },
  "language_info": {
   "codemirror_mode": {
    "name": "ipython",
    "version": 3
   },
   "file_extension": ".py",
   "mimetype": "text/x-python",
   "name": "python",
   "nbconvert_exporter": "python",
   "pygments_lexer": "ipython3",
   "version": "3.12.7"
  }
 },
 "nbformat": 4,
 "nbformat_minor": 4
}
